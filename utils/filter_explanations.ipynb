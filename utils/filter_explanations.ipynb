{
 "cells": [
  {
   "cell_type": "code",
   "execution_count": 1,
   "id": "9ec4c130",
   "metadata": {},
   "outputs": [],
   "source": [
    "import json\n",
    "from itertools import groupby\n",
    "from collections import defaultdict"
   ]
  },
  {
   "cell_type": "code",
   "execution_count": 2,
   "id": "f6b4f5eb",
   "metadata": {},
   "outputs": [],
   "source": [
    "with open(\"explanations_no_val.json\") as f:\n",
    "    exp = json.load(f)"
   ]
  },
  {
   "cell_type": "code",
   "execution_count": 3,
   "id": "ef59580b",
   "metadata": {},
   "outputs": [],
   "source": [
    "for user in exp:\n",
    "    for job in exp[user]:\n",
    "        for exp_type in exp[user][job]:\n",
    "\n",
    "            explanation = exp[user][job][exp_type]\n",
    "\n",
    "            sums = {}\n",
    "            \n",
    "            \n",
    "            # Find the total score per node\n",
    "            if type(explanation) == list:               \n",
    "                for key, group in groupby(sorted(explanation, key=lambda x: x[0]), lambda x: x[0]):\n",
    "                    grouped = list(group)            \n",
    "                    sums[key] = sum([float(i[2]) for i in grouped])\n",
    "\n",
    "                # Normalize accordingly\n",
    "                for edge in explanation:\n",
    "                    edge[2] = float(edge[2])\n",
    "                    # Account for nodes with a sum of 0\n",
    "                    edge[2] = str(edge[2] / sums[edge[0]]) if sums[edge[0]] else str(edge[2])"
   ]
  },
  {
   "cell_type": "code",
   "execution_count": 4,
   "id": "90e4e9e4",
   "metadata": {},
   "outputs": [
    {
     "name": "stdout",
     "output_type": "stream",
     "text": [
      "u1324\n",
      "u1753\n",
      "u2030\n",
      "u2080\n",
      "u2302\n",
      "u2536\n",
      "u2707\n",
      "u2735\n",
      "u3023\n",
      "u3033\n",
      "u3078\n",
      "u3449\n",
      "u4186\n"
     ]
    }
   ],
   "source": [
    "for user in exp:\n",
    "    # for job in exp[\"u695\"]:\n",
    "    if \"j127874\" in exp[user]:\n",
    "        print(user)"
   ]
  },
  {
   "cell_type": "code",
   "execution_count": 9,
   "id": "2f8376d2",
   "metadata": {},
   "outputs": [],
   "source": [
    "candidate_exp = defaultdict(lambda: defaultdict(lambda: defaultdict(list)))\n",
    "company_exp = defaultdict(lambda: defaultdict(lambda: defaultdict(list)))\n",
    "\n",
    "relevant_users = []\n",
    "\n",
    "for user in exp:\n",
    "    if \"j127874\" in exp[user]:\n",
    "        relevant_users.append(user)\n",
    "                \n",
    "        company_exp[user][\"j127874\"][\"explanation\"] = exp[user][\"j127874\"]\n",
    "        \n",
    "with open(\"./data/company_explanations.json\", \"w+\") as f:\n",
    "    json.dump(company_exp, f)\n",
    "    \n",
    "for job in exp[\"u4186\"]:\n",
    "    candidate_exp[\"u4186\"][job][\"explanation\"] = exp[\"u4186\"][job]\n",
    "       \n",
    "for rel_user in relevant_users:\n",
    "    candidate_exp[rel_user][\"j127874\"][\"explanation\"] = exp[rel_user][\"j127874\"]\n",
    "    \n",
    "    \n",
    "with open(\"./data/candidate_explanations.json\", \"w\") as f:\n",
    "    json.dump(candidate_exp, f)"
   ]
  },
  {
   "cell_type": "code",
   "execution_count": null,
   "id": "85499edd",
   "metadata": {},
   "outputs": [],
   "source": []
  }
 ],
 "metadata": {
  "kernelspec": {
   "display_name": "Python 3 (ipykernel)",
   "language": "python",
   "name": "python3"
  },
  "language_info": {
   "codemirror_mode": {
    "name": "ipython",
    "version": 3
   },
   "file_extension": ".py",
   "mimetype": "text/x-python",
   "name": "python",
   "nbconvert_exporter": "python",
   "pygments_lexer": "ipython3",
   "version": "3.9.12"
  }
 },
 "nbformat": 4,
 "nbformat_minor": 5
}
