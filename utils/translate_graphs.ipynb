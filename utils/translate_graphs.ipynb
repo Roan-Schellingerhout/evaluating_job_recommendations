{
 "cells": [
  {
   "cell_type": "code",
   "execution_count": 29,
   "id": "51bc604a",
   "metadata": {},
   "outputs": [],
   "source": [
    "from deep_translator import GoogleTranslator\n",
    "from collections import defaultdict\n",
    "\n",
    "import json\n",
    "import re\n",
    "import networkx as nx"
   ]
  },
  {
   "cell_type": "code",
   "execution_count": 2,
   "id": "23602a14",
   "metadata": {},
   "outputs": [],
   "source": [
    "translator = GoogleTranslator(source=\"en\", target=\"nl\")"
   ]
  },
  {
   "cell_type": "code",
   "execution_count": 39,
   "id": "de2ba350",
   "metadata": {},
   "outputs": [
    {
     "data": {
      "text/plain": [
       "35"
      ]
     },
     "execution_count": 39,
     "metadata": {},
     "output_type": "execute_result"
    }
   ],
   "source": [
    "new = defaultdict(lambda : defaultdict(lambda : defaultdict(list)))\n",
    "\n",
    "unique_terms = []\n",
    "\n",
    "with open(\"./data/candidate_explanations.json\") as f:\n",
    "    exps = json.load(f)\n",
    "    \n",
    "    for user in exps:\n",
    "        for job in exps[user]:\n",
    "            for explanation in exps[user][job]:\n",
    "                current = exps[user][job][explanation][\"candidate\"]\n",
    "                  \n",
    "                for i, edge in enumerate(current):\n",
    "                    for j, node in enumerate(edge):\n",
    "                        if not re.match(\"[u,j][\\d]+\", node) and not re.match(\"[\\d]\\.[\\d]*\", node) and not re.match(\"\\S{32}\", node):\n",
    "                            unique_terms.append(node)\n",
    "                            \n",
    "len(set(unique_terms))"
   ]
  },
  {
   "cell_type": "code",
   "execution_count": 41,
   "id": "3856087c",
   "metadata": {},
   "outputs": [
    {
     "data": {
      "text/plain": [
       "{'enterprise': 'onderneming',\n",
       " 'assistant': 'assistent',\n",
       " 'Recruiter': 'Recruiter',\n",
       " 'teach': 'onderwijzen',\n",
       " 'reception': 'receptie',\n",
       " 'HR Specialist': 'HR specialist',\n",
       " 'Securities Practitioner Qualification Certificate': 'Kwalificatiecertificaat voor effectenbeoefenaar',\n",
       " 'dig': 'graven',\n",
       " 'front desk': 'receptie',\n",
       " 'goods': 'goederen',\n",
       " 'leisure': 'vrije tijd',\n",
       " 'Accounting qualification has been cancelled)': 'Boekhoudkundige kwalificatie is geannuleerd)',\n",
       " 'financial assistant': 'financieel assistent',\n",
       " 'communicate': 'communiceren',\n",
       " 'Commercial Specialist': 'Commercieel Specialist',\n",
       " 'Internal auditor': 'Interne auditor',\n",
       " 'document': 'document',\n",
       " 'Customer Service Specialist': 'Klantenservice specialist',\n",
       " 'transportation': 'vervoer',\n",
       " 'regulations': 'regelgeving',\n",
       " 'Data management': 'Gegevensbeheer',\n",
       " 'send and receive': 'verzenden en ontvangen',\n",
       " 'headhunting consultant': 'headhunter adviseur',\n",
       " 'Undergraduate': 'Niet-gegradueerde',\n",
       " 'in stock': 'op voorraad',\n",
       " 'Administrative Commissioner': 'Administratief commissaris',\n",
       " 'secretary': 'secretaris',\n",
       " 'Purchasing Specialist': 'Aankoopspecialist',\n",
       " 'clerk': 'klerk',\n",
       " 'Accounting Qualification Certificate': 'Certificaat van boekhoudkundige kwalificatie',\n",
       " 'Qualifications for practitioners in the securities and futures industry': 'Kwalificaties voor beoefenaars in de effecten- en futures-industrie',\n",
       " 'file management': 'bestandsbeheer',\n",
       " 'data operation': 'gegevensbewerking',\n",
       " 'team leader': 'teamleider',\n",
       " 'Documentation': 'Documentatie'}"
      ]
     },
     "execution_count": 41,
     "metadata": {},
     "output_type": "execute_result"
    }
   ],
   "source": [
    "{term: translator.translate(term) for term in set(unique_terms)}"
   ]
  },
  {
   "cell_type": "code",
   "execution_count": null,
   "id": "975ad3a2",
   "metadata": {},
   "outputs": [],
   "source": []
  }
 ],
 "metadata": {
  "kernelspec": {
   "display_name": "Python 3 (ipykernel)",
   "language": "python",
   "name": "python3"
  },
  "language_info": {
   "codemirror_mode": {
    "name": "ipython",
    "version": 3
   },
   "file_extension": ".py",
   "mimetype": "text/x-python",
   "name": "python",
   "nbconvert_exporter": "python",
   "pygments_lexer": "ipython3",
   "version": "3.10.9"
  }
 },
 "nbformat": 4,
 "nbformat_minor": 5
}
