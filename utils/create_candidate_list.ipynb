{
 "cells": [
  {
   "cell_type": "code",
   "execution_count": 1,
   "id": "c7630320",
   "metadata": {},
   "outputs": [],
   "source": [
    "import json\n",
    "import os\n",
    "\n",
    "from tqdm.notebook import tqdm"
   ]
  },
  {
   "cell_type": "code",
   "execution_count": 5,
   "id": "4fb423ce",
   "metadata": {},
   "outputs": [
    {
     "data": {
      "application/vnd.jupyter.widget-view+json": {
       "model_id": "92fd60667cd040058550838680c87dac",
       "version_major": 2,
       "version_minor": 0
      },
      "text/plain": [
       "  0%|          | 0/18 [00:00<?, ?it/s]"
      ]
     },
     "metadata": {},
     "output_type": "display_data"
    }
   ],
   "source": [
    "data_dir = [f\"./data/hits/{file}\" for file in os.listdir(\"./data/hits\")] +\\\n",
    "           [f\"./data/misses/{file}\" for file in os.listdir(\"./data/misses\")]\n",
    "\n",
    "candidate_dict = {}\n",
    "\n",
    "for file in tqdm(data_dir):\n",
    "    with open(file, \"r\") as f:\n",
    "        current = json.load(f)\n",
    "        \n",
    "        for job in current:        \n",
    "            for node in current[job][\"nodes\"]:\n",
    "                if \"experience\" in node.keys():\n",
    "                    candidate_dict[node[\"id\"]] = node[\"experience\"]\n",
    "\n",
    "with open(\"candidate_list.json\", \"w\") as f:\n",
    "    json.dump(candidate_dict, f)"
   ]
  },
  {
   "cell_type": "code",
   "execution_count": null,
   "id": "09777f36",
   "metadata": {},
   "outputs": [],
   "source": [
    "data_dir"
   ]
  },
  {
   "cell_type": "code",
   "execution_count": null,
   "id": "5b804e77",
   "metadata": {},
   "outputs": [],
   "source": []
  }
 ],
 "metadata": {
  "kernelspec": {
   "display_name": "Python 3 (ipykernel)",
   "language": "python",
   "name": "python3"
  },
  "language_info": {
   "codemirror_mode": {
    "name": "ipython",
    "version": 3
   },
   "file_extension": ".py",
   "mimetype": "text/x-python",
   "name": "python",
   "nbconvert_exporter": "python",
   "pygments_lexer": "ipython3",
   "version": "3.9.12"
  }
 },
 "nbformat": 4,
 "nbformat_minor": 5
}
