{
 "cells": [
  {
   "cell_type": "code",
   "execution_count": 1,
   "id": "c7630320",
   "metadata": {},
   "outputs": [],
   "source": [
    "import json\n",
    "import os\n",
    "\n",
    "from tqdm.notebook import tqdm\n",
    "from deep_translator import GoogleTranslator"
   ]
  },
  {
   "cell_type": "code",
   "execution_count": 2,
   "id": "dda1b8bd",
   "metadata": {},
   "outputs": [],
   "source": [
    "translator = GoogleTranslator(source = \"zh-CN\", target = \"nl\")"
   ]
  },
  {
   "cell_type": "code",
   "execution_count": 3,
   "id": "0a7b3c6f",
   "metadata": {},
   "outputs": [],
   "source": [
    "converter = {\"hasSubType\" : \"valt onder\",\n",
    "             \"isSubTypeOf\" : \"is overkoepelend over\",\n",
    "             \"requiresDegree\" : \"vereist diploma\",\n",
    "             \"maxDegree\" : \"maximaal diploma\",\n",
    "             \"hasDegree\" : \"heeft diploma\",\n",
    "             \"inCurrentIndustry\" : \"werkt binnen industrie\", \n",
    "             \"wantsIndustry\" : \"wil werken in industrie\",\n",
    "             \"inCurrentType\" : \"werkt binnen type\", \n",
    "             \"hasSkill\" : \"heeft vaardigheid\", \n",
    "             \"wantsType\" : \"wil type\",\n",
    "             \"isRequiredDegreeOf\" : \"is vereist diploma van\", \n",
    "             \"isMaxDegreeOf\" : \"is maximaal diploma van\",\n",
    "             \"isUserDegreeOf\" : \"heeft diploma\",\n",
    "             \"isCurrentIndustryOf\" : \"is huidige industrie van\",\n",
    "             \"isWantedIndustryOf\" : \"is gewilde industrie van\",\n",
    "             \"isCurrentTypeOf\" : \"is huidig type van\",\n",
    "             \"isWantedTypeOf\" : \"is gewild type van\",\n",
    "             \"isHeldBy\" : \"vaardigheid in bezit van\",\n",
    "             \"interactedWith\" : \"heeft vervuld\",\n",
    "             \"interactedBy\" : \"is vervuld door\"}"
   ]
  },
  {
   "cell_type": "code",
   "execution_count": null,
   "id": "e706c47a",
   "metadata": {},
   "outputs": [],
   "source": [
    "data_dir = [f\"./data/hits/{file}\" for file in os.listdir(\"./data/hits\")] +\\\n",
    "           [f\"./data/misses/{file}\" for file in os.listdir(\"./data/misses\")]\n",
    "\n",
    "\n",
    "for file in tqdm(data_dir):\n",
    "    with open(file, \"r\") as f:\n",
    "        current = json.load(f)\n",
    "        \n",
    "        user = file.split(\"/\")[-1].split(\".\")[0]\n",
    "        \n",
    "        for job in current:\n",
    "            if (user != \"u904\") and (job != \"j127874\") or (user in [\"u904\", \"u4186\", \"u4480\"]):\n",
    "                continue\n",
    "            \n",
    "            for i, edge in enumerate(current[job][\"links\"]):\n",
    "                current[job][\"links\"][i][\"label\"] = converter[edge[\"label\"]]\n",
    "            \n",
    "            for i, node in enumerate(current[job][\"nodes\"]):\n",
    "                if \"experience\" in current[job][\"nodes\"][i]:\n",
    "                    current[job][\"nodes\"][i][\"experience\"] = translator.translate(node[\"experience\"])\n",
    "                if \"title\" in current[job][\"nodes\"][i]:\n",
    "                    current[job][\"nodes\"][i][\"title\"] = translator.translate(node[\"title\"])\n",
    "                if \"job_description\" in current[job][\"nodes\"][i]:\n",
    "                    current[job][\"nodes\"][i][\"job_description\"] = translator.translate(node[\"job_description\"])\n",
    "                if \"jd_sub_type\" in current[job][\"nodes\"][i]:\n",
    "                    current[job][\"nodes\"][i][\"jd_sub_type\"] = translator.translate(node[\"jd_sub_type\"])\n",
    "                if \"desired_industry\" in current[job][\"nodes\"][i]:\n",
    "                    current[job][\"nodes\"][i][\"desired_industry\"] = translator.translate(node[\"desired_industry\"])\n",
    "                if \"desired_job_type\" in current[job][\"nodes\"][i]:\n",
    "                    current[job][\"nodes\"][i][\"desired_job_type\"] = translator.translate(node[\"desired_job_type\"])\n",
    "                if \"desired_industry\" in current[job][\"nodes\"][i]:\n",
    "                    current[job][\"nodes\"][i][\"desired_industry\"] = translator.translate(node[\"desired_industry\"])\n",
    "                if \"desired_job_type\" in current[job][\"nodes\"][i]:\n",
    "                    current[job][\"nodes\"][i][\"desired_job_type\"] = translator.translate(node[\"desired_job_type\"])\n",
    "                if \"desired_industry\" in current[job][\"nodes\"][i]:\n",
    "                    current[job][\"nodes\"][i][\"desired_industry\"] = translator.translate(node[\"desired_industry\"])\n",
    "                if \"current_industry\" in current[job][\"nodes\"][i]:\n",
    "                    current[job][\"nodes\"][i][\"current_industry\"] = translator.translate(node[\"current_industry\"])\n",
    "                if \"current_job_type\" in current[job][\"nodes\"][i]:\n",
    "                    current[job][\"nodes\"][i][\"current_job_type\"] = translator.translate(node[\"current_job_type\"])\n",
    "                if \"min_edu_level\" in current[job][\"nodes\"][i]:\n",
    "                    current[job][\"nodes\"][i][\"min_edu_level\"] = translator.translate(node[\"min_edu_level\"])\n",
    "                if \"max_edu_level\" in current[job][\"nodes\"][i]:\n",
    "                    current[job][\"nodes\"][i][\"max_edu_level\"] = translator.translate(node[\"max_edu_level\"])\n",
    "                if \"degree\" in current[job][\"nodes\"][i]:\n",
    "                    current[job][\"nodes\"][i][\"degree\"] = translator.translate(node[\"degree\"])\n",
    "                    \n",
    "                    \n",
    "    new_file_name = file.split(\".json\")[0] + \"_translated.json\"  \n",
    "    with open(new_file_name, \"w\") as f2:\n",
    "        json.dump(current, f2)"
   ]
  },
  {
   "cell_type": "code",
   "execution_count": null,
   "id": "09777f36",
   "metadata": {},
   "outputs": [],
   "source": [
    "data_dir"
   ]
  },
  {
   "cell_type": "code",
   "execution_count": null,
   "id": "5b804e77",
   "metadata": {},
   "outputs": [],
   "source": []
  }
 ],
 "metadata": {
  "kernelspec": {
   "display_name": "Python 3 (ipykernel)",
   "language": "python",
   "name": "python3"
  },
  "language_info": {
   "codemirror_mode": {
    "name": "ipython",
    "version": 3
   },
   "file_extension": ".py",
   "mimetype": "text/x-python",
   "name": "python",
   "nbconvert_exporter": "python",
   "pygments_lexer": "ipython3",
   "version": "3.10.9"
  }
 },
 "nbformat": 4,
 "nbformat_minor": 5
}
